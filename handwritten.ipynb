{
 "cells": [
  {
   "cell_type": "code",
   "execution_count": 37,
   "id": "5cc0dbf2",
   "metadata": {},
   "outputs": [],
   "source": [
    "import os, json, math, argparse, numpy as np, pandas as pd\n",
    "from sklearn.model_selection import train_test_split\n",
    "from sklearn.preprocessing import StandardScaler, LabelEncoder\n",
    "from sklearn.metrics import accuracy_score, classification_report, mean_squared_error, r2_score\n",
    "import tensorflow as tf\n",
    "from tensorflow import keras\n",
    "from tensorflow.keras import layers\n"
   ]
  },
  {
   "cell_type": "code",
   "execution_count": 38,
   "id": "dc0b793a",
   "metadata": {},
   "outputs": [],
   "source": [
    "def infer_problem_type(y: pd.Series) -> str:\n",
    "    if pd.api.types.is_numeric_dtype(y):\n",
    "        if y.nunique(dropna=True) > max(20, int(0.2*len(y))):\n",
    "            return \"regression\"\n",
    "    return \"classification\""
   ]
  },
  {
   "cell_type": "code",
   "execution_count": 39,
   "id": "a21aebd4",
   "metadata": {},
   "outputs": [],
   "source": [
    "def best_input_shape(n_features: int):\n",
    "    r = int(math.sqrt(n_features))\n",
    "    if r*r == n_features:\n",
    "        return (\"2d\", (r, r, 1))\n",
    "    return (\"1d\", (n_features, 1))"
   ]
  },
  {
   "cell_type": "code",
   "execution_count": 40,
   "id": "cfbeaf1a",
   "metadata": {},
   "outputs": [],
   "source": [
    "def main():\n",
    "    ap = argparse.ArgumentParser()\n",
    "    ap.add_argument(\"--csv\", type=str, default=\"dataset (3).csv\")\n",
    "    ap.add_argument(\"--target\", type=str, default=\"label\")\n",
    "    ap.add_argument(\"--epochs\", type=int, default=50)\n",
    "    ap.add_argument(\"--batch\", type=int, default=32)\n",
    "    ap.add_argument(\"--val_split\", type=float, default=0.2)\n",
    "    HAND_Dataset = ap.parse_args()"
   ]
  },
  {
   "cell_type": "code",
   "execution_count": 41,
   "id": "94c43ea1",
   "metadata": {},
   "outputs": [
    {
     "ename": "NameError",
     "evalue": "name 'HAND_Dataset' is not defined",
     "output_type": "error",
     "traceback": [
      "\u001b[31m---------------------------------------------------------------------------\u001b[39m",
      "\u001b[31mNameError\u001b[39m                                 Traceback (most recent call last)",
      "\u001b[36mCell\u001b[39m\u001b[36m \u001b[39m\u001b[32mIn[41]\u001b[39m\u001b[32m, line 1\u001b[39m\n\u001b[32m----> \u001b[39m\u001b[32m1\u001b[39m df = pd.read_csv(\u001b[43mHAND_Dataset\u001b[49m.csv)\n\u001b[32m      2\u001b[39m \u001b[38;5;28;01massert\u001b[39;00m HAND_Dataset.target \u001b[38;5;129;01min\u001b[39;00m df.columns, \u001b[33mf\u001b[39m\u001b[33m\"\u001b[39m\u001b[33mTarget \u001b[39m\u001b[33m'\u001b[39m\u001b[38;5;132;01m{\u001b[39;00mHAND_Dataset.target\u001b[38;5;132;01m}\u001b[39;00m\u001b[33m'\u001b[39m\u001b[33m not found. Columns: \u001b[39m\u001b[38;5;132;01m{\u001b[39;00m\u001b[38;5;28mlist\u001b[39m(df.columns)\u001b[38;5;132;01m}\u001b[39;00m\u001b[33m\"\u001b[39m\n",
      "\u001b[31mNameError\u001b[39m: name 'HAND_Dataset' is not defined"
     ]
    }
   ],
   "source": [
    "df = pd.read_csv(HAND_Dataset.csv)\n",
    "assert HAND_Dataset.target in df.columns, f\"Target '{HAND_Dataset.target}' not found. Columns: {list(df.columns)}\""
   ]
  }
 ],
 "metadata": {
  "kernelspec": {
   "display_name": ".venv",
   "language": "python",
   "name": "python3"
  },
  "language_info": {
   "codemirror_mode": {
    "name": "ipython",
    "version": 3
   },
   "file_extension": ".py",
   "mimetype": "text/x-python",
   "name": "python",
   "nbconvert_exporter": "python",
   "pygments_lexer": "ipython3",
   "version": "3.12.7"
  }
 },
 "nbformat": 4,
 "nbformat_minor": 5
}
